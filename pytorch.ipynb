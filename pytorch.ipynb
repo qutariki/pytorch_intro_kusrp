{
 "cells": [
  {
   "cell_type": "markdown",
   "metadata": {},
   "source": [
    "# Introduction"
   ]
  },
  {
   "cell_type": "markdown",
   "metadata": {},
   "source": [
    "Installation for any of the dependencies are skipped as they can be found in their respective documentations\n",
    "\n",
    "The material in this document are a summation of the official PyTorch documentation, several tutorial notebooks and my own experience. Material for further study can be found at the last cell of the notebook.\n",
    "\n",
    "Some of the cells are there for reference use and may be skipped during the lecture."
   ]
  },
  {
   "cell_type": "markdown",
   "metadata": {},
   "source": [
    "This notebook goes over the following topics:\n",
    "* Tensors \n",
    "* Data I/O\n",
    "* Model Pipeline\n",
    "* Training\n",
    "* Model Evaluation\n",
    "* Saving Models"
   ]
  },
  {
   "cell_type": "markdown",
   "metadata": {},
   "source": [
    "## Dependencies"
   ]
  },
  {
   "cell_type": "code",
   "execution_count": 1,
   "metadata": {},
   "outputs": [],
   "source": [
    "import numpy as np\n",
    "import pandas as pd\n",
    "import matplotlib.pyplot as plt\n",
    "import torch\n",
    "import torch.nn as nn"
   ]
  },
  {
   "cell_type": "markdown",
   "metadata": {},
   "source": [
    "# Tensors"
   ]
  },
  {
   "cell_type": "markdown",
   "metadata": {},
   "source": [
    "In PyTorch, Model I/O and its parameters are encoded with tensors. A tensor can be seen as a data structure similar to arrays or matrices, they're actually compatible with lots of existing types (such as NumPy ndarray) but they're optimized for certain operations in PyTorch."
   ]
  },
  {
   "cell_type": "code",
   "execution_count": 2,
   "metadata": {},
   "outputs": [
    {
     "name": "stdout",
     "output_type": "stream",
     "text": [
      "Ones Tensor: \n",
      " tensor([[1., 1., 1.],\n",
      "        [1., 1., 1.]]) \n",
      "\n",
      "Zeros Tensor: \n",
      " tensor([[0., 0., 0.],\n",
      "        [0., 0., 0.]])\n",
      "Random Tensor: \n",
      " tensor([[0.5791, 0.8736, 0.3204],\n",
      "        [0.1171, 0.1185, 0.6914]]) \n",
      "\n",
      "Another Random Tensor: \n",
      " tensor([[0.1946, 0.1432, 0.7279],\n",
      "        [0.5786, 0.8747, 0.7659]]) \n",
      "\n"
     ]
    }
   ],
   "source": [
    "# there're several ways of initializing tensors\n",
    "# converting from a regular multi dimensional list\n",
    "data = [[1, 2],[3, 4]]\n",
    "x_data = torch.tensor(data)\n",
    "\n",
    "# converting from a numpy array\n",
    "np_array = np.array(data)\n",
    "x_np = torch.from_numpy(np_array)\n",
    "\n",
    "# we can also convert a tensor back to numpy\n",
    "t_np = x_np.numpy()\n",
    "\n",
    "# common functions to create tensors, similiar to numpy\n",
    "shape = (2,3)\n",
    "rand_tensor = torch.rand(shape)\n",
    "ones_tensor = torch.ones(shape)\n",
    "zeros_tensor = torch.zeros(shape)\n",
    "\n",
    "# we can also create arrays like other tensors, in terms of shape and datatype\n",
    "rand_like_tensor = torch.rand_like(rand_tensor)\n",
    "\n",
    "print(f\"Ones Tensor: \\n {ones_tensor} \\n\")\n",
    "print(f\"Zeros Tensor: \\n {zeros_tensor}\")\n",
    "print(f\"Random Tensor: \\n {rand_tensor} \\n\")\n",
    "print(f\"Another Random Tensor: \\n {rand_like_tensor} \\n\")"
   ]
  },
  {
   "cell_type": "code",
   "execution_count": 3,
   "metadata": {},
   "outputs": [],
   "source": [
    "# ideally, we'd want to store our tensors and compute our operations on a gpu as they are way more effective\n",
    "# the following code can be tested on colab with a gpu runtime\n",
    "# we could also create the tensor directly on the gpu as well\n",
    "if torch.cuda.is_available():\n",
    "    tensor = tensor.to(\"cuda\")"
   ]
  },
  {
   "cell_type": "code",
   "execution_count": 15,
   "metadata": {},
   "outputs": [
    {
     "name": "stdout",
     "output_type": "stream",
     "text": [
      "tensor([[0.9367, 0.4597, 1.1347],\n",
      "        [0.4597, 1.1758, 1.0923],\n",
      "        [1.1347, 1.0923, 1.6811]])\n",
      "tensor([[0.0168, 0.0837, 0.8362],\n",
      "        [0.7390, 0.4045, 0.0323],\n",
      "        [0.3206, 0.4701, 0.8905]])\n"
     ]
    }
   ],
   "source": [
    "# commonly used operations\n",
    "# matrix multiplication, each of the y values are the same\n",
    "tensor = torch.rand([3,3])\n",
    "y1 = tensor @ tensor.T \n",
    "y2 = tensor.matmul(tensor.T)\n",
    "y3 = torch.zeros_like(y1) # zeros array in the shape of multiplication\n",
    "print(torch.matmul(tensor, tensor.T, out=y3))\n",
    "\n",
    "# element wise multiplication, each of the z values are the same\n",
    "z2 = tensor.mul(tensor)\n",
    "z3 = torch.zeros_like(tensor)\n",
    "print(torch.mul(tensor, tensor, out=z3))"
   ]
  },
  {
   "cell_type": "markdown",
   "metadata": {},
   "source": [
    "# Data I/O"
   ]
  },
  {
   "cell_type": "markdown",
   "metadata": {},
   "source": [
    "## Pre-Loaded Datasets"
   ]
  },
  {
   "cell_type": "code",
   "execution_count": 16,
   "metadata": {},
   "outputs": [],
   "source": [
    "# there're many pre-loaded datasets available in pytorch itself\n",
    "# these datasets are commonly used as benchmarks or for demo purposes so it's a good idea to try them out\n",
    "from torchvision.transforms import ToTensor\n",
    "from torchvision import datasets\n",
    "\n",
    "training_data = datasets.FashionMNIST(\n",
    "    root=\"data\",\n",
    "    train=True,\n",
    "    download=True,\n",
    "    transform=ToTensor()\n",
    ")\n",
    "\n",
    "test_data = datasets.FashionMNIST(\n",
    "    root=\"data\",\n",
    "    train=False,\n",
    "    download=True,\n",
    "    transform=ToTensor()\n",
    ")"
   ]
  },
  {
   "cell_type": "code",
   "execution_count": 17,
   "metadata": {},
   "outputs": [
    {
     "data": {
      "image/png": "[encoded data removed]",
      "text/plain": [
       "<Figure size 800x800 with 9 Axes>"
      ]
     },
     "metadata": {},
     "output_type": "display_data"
    }
   ],
   "source": [
    "# this plots 9 random samples from the training set\n",
    "labels_map = {\n",
    "    0: \"T-Shirt\",\n",
    "    1: \"Trouser\",\n",
    "    2: \"Pullover\",\n",
    "    3: \"Dress\",\n",
    "    4: \"Coat\",\n",
    "    5: \"Sandal\",\n",
    "    6: \"Shirt\",\n",
    "    7: \"Sneaker\",\n",
    "    8: \"Bag\",\n",
    "    9: \"Ankle Boot\",\n",
    "}\n",
    "figure = plt.figure(figsize=(8, 8))\n",
    "cols, rows = 3, 3\n",
    "for i in range(1, cols * rows + 1):\n",
    "    sample_idx = torch.randint(len(training_data), size=(1,)).item()\n",
    "    img, label = training_data[sample_idx]\n",
    "    figure.add_subplot(rows, cols, i)\n",
    "    plt.title(labels_map[label])\n",
    "    plt.axis(\"off\")\n",
    "    plt.imshow(img.squeeze(), cmap=\"gray\")\n",
    "plt.show()"
   ]
  },
  {
   "cell_type": "markdown",
   "metadata": {},
   "source": [
    "## Custom Datasets"
   ]
  },
  {
   "cell_type": "markdown",
   "metadata": {},
   "source": [
    "There are a few different ways to create a custom dataset in PyTorch, this'll go over the most common ones.\n"
   ]
  },
  {
   "cell_type": "code",
   "execution_count": 18,
   "metadata": {},
   "outputs": [],
   "source": [
    "# a custom dataset class must implement key magic methods of the parent class\n",
    "from torch.utils.data import DataLoader, Dataset, TensorDataset\n",
    "class EarthquakeData(Dataset):\n",
    "    def __init__(self, data_file, normalize=False):\n",
    "        self.data = pd.read_csv(data_file, sep='\\t', header=None)\n",
    "        if normalize:\n",
    "            self.mean = np.mean(self.data, axis=0)\n",
    "            self.std = np.std(self.data, axis=0)\n",
    "            self.data = (self.data - self.mean) / (self.std + 1e-7) \n",
    "        \n",
    "    def __len__(self):\n",
    "        return len(self.data)\n",
    "        \n",
    "    def __getitem__(self, idx):\n",
    "        # get the row for the given index\n",
    "        row = self.data.iloc[idx].values.astype('float32')\n",
    "        # the magnitude value is the last array member\n",
    "        # after getting the magnitude, we cut it out from the array\n",
    "        return row[105:-1], row[-1]"
   ]
  },
  {
   "cell_type": "code",
   "execution_count": 34,
   "metadata": {},
   "outputs": [],
   "source": [
    "train_path = 'DATA_split/DATA_4sn_trn.txt'\n",
    "test_path = 'DATA_split/DATA_4sn_val.txt'\n",
    "\n",
    "# custom class instances\n",
    "training_data = EarthquakeData(train_path, normalize=True)\n",
    "test_data = EarthquakeData(test_path, normalize=True)\n",
    "\n",
    "# split the data into batches, each batch contains 64 signals in this case\n",
    "train_dataloader = DataLoader(training_data, batch_size=64, shuffle=False)\n",
    "test_dataloader = DataLoader(test_data, batch_size=64, shuffle=False)\n",
    "\n",
    "# alternative way:\n",
    "# if we already have access to the data arrays we could also use the following\n",
    "train_txt = pd.read_csv('DATA_split/DATA_4sn_trn.txt', sep='\\t', header=None)\n",
    "X_train = torch.tensor(train_txt.iloc[:, :-1].values, dtype=torch.float32)\n",
    "y_train = torch.tensor(train_txt.iloc[:, -1].values, dtype=torch.float32)\n",
    "alternative_dataset = TensorDataset(X_train, y_train)\n",
    "alternative_loader = DataLoader(alternative_dataset, batch_size=64, shuffle=False)"
   ]
  },
  {
   "cell_type": "code",
   "execution_count": 35,
   "metadata": {},
   "outputs": [
    {
     "data": {
      "text/plain": [
       "[<matplotlib.lines.Line2D at 0x16b075d30>]"
      ]
     },
     "execution_count": 35,
     "metadata": {},
     "output_type": "execute_result"
    },
    {
     "data": {
      "image/png": "[encoded data removed]",
      "text/plain": [
       "<Figure size 640x480 with 2 Axes>"
      ]
     },
     "metadata": {},
     "output_type": "display_data"
    }
   ],
   "source": [
    "# nothing magical happens when we use the dataloader, it just organizes the data in a useful way \n",
    "# but it offers many customizations to this organization\n",
    "# if we were to load the data regularly and organize it ourselves it'd be the same thing basically\n",
    "batch_sample, sample_label = next(iter(train_dataloader))\n",
    "fig, axs = plt.subplots(2)\n",
    "fig.suptitle('These plots should be the same')\n",
    "axs[0].plot(train_txt.iloc[0][105:-1]) # first sample of the whole training set\n",
    "axs[1].plot(batch_sample[0]) # first sample of the first batch"
   ]
  },
  {
   "cell_type": "markdown",
   "metadata": {},
   "source": [
    "# Building Models"
   ]
  },
  {
   "cell_type": "markdown",
   "metadata": {},
   "source": [
    "## Linear Regression"
   ]
  },
  {
   "cell_type": "code",
   "execution_count": 36,
   "metadata": {},
   "outputs": [],
   "source": [
    "# there's a faster way to create models, which we'll cover later.\n",
    "class LinearRegression(nn.Module):\n",
    "    def __init__(self, input_dim):\n",
    "        super(LinearRegression, self).__init__()\n",
    "        # one linear layer in the form of y = x*A.T+b\n",
    "        self.linear = nn.Linear(input_dim, 1)\n",
    "    \n",
    "    # this defines what the model does in a forward pass\n",
    "    def forward(self, x):\n",
    "        # pass the input to the linear layer\n",
    "        return self.linear(x)\n",
    "\n",
    "train_dim = next(iter(training_data))[0].shape[0]"
   ]
  },
  {
   "cell_type": "markdown",
   "metadata": {},
   "source": [
    "## MLP"
   ]
  },
  {
   "cell_type": "code",
   "execution_count": 37,
   "metadata": {},
   "outputs": [],
   "source": [
    "import torch.nn.functional as F\n",
    "some_dim = 95\n",
    "class MLP(nn.Sequential):\n",
    "    def __init__(self):\n",
    "        super().__init__(\n",
    "            nn.Linear(some_dim, 64),\n",
    "            nn.ReLU(),\n",
    "            nn.Linear(64, 32),\n",
    "            nn.ReLU(),\n",
    "            nn.Linear(32, 1))\n",
    "\n",
    "# we could also define the same model like this\n",
    "MLP = nn.Sequential(\n",
    "   nn.Linear(some_dim, 64),\n",
    "   nn.ReLU(),\n",
    "   nn.Linear(64, 32),\n",
    "   nn.ReLU(),\n",
    "   nn.Linear(32, 1))\n",
    "\n",
    "class MLP(torch.nn.Module):\n",
    "    def __init__(self, input_dim):\n",
    "        super(MLP, self).__init__()\n",
    "        self.fc1 = nn.Linear(input_dim, 64)\n",
    "        self.fc2 = nn.Linear(64, 32)\n",
    "        self.fc3 = nn.Linear(32, 1)\n",
    "    \n",
    "    def forward(self, x):\n",
    "        x = F.relu(self.fc1(x)) # pass x to the first fully connected layer to a relu\n",
    "        x = F.relu(self.fc2(x)) # same for the second layer\n",
    "        x = self.fc3(x) # now pass the x to the last fc and return it\n",
    "        return x\n"
   ]
  },
  {
   "cell_type": "markdown",
   "metadata": {},
   "source": [
    "# Training Models"
   ]
  },
  {
   "cell_type": "code",
   "execution_count": 38,
   "metadata": {},
   "outputs": [],
   "source": [
    "def train(model, train_dataloader, optimizer, criterion, n_epochs = 20):\n",
    "    train_losses = []\n",
    "    val_losses = []\n",
    "    # usually, the optimal parameters are not reached in one pass\n",
    "    # \n",
    "    for epoch in range(n_epochs):\n",
    "        model.train() # switch the model to train mode\n",
    "        # this is done so that certain layers that behave differently in different modes behave correctly\n",
    "        running_loss = 0.0\n",
    "        for X_batch, y_batch in train_dataloader:\n",
    "            optimizer.zero_grad()\n",
    "            preds = model(X_batch) # get model predictions\n",
    "            loss = criterion(preds.squeeze(), y_batch) # results of the loss function\n",
    "            loss.backward() # calculate the gradients\n",
    "            optimizer.step() # take a optimizer step based on the current gradient\n",
    "            running_loss += loss.item()\n",
    "        \n",
    "        train_loss = running_loss / len(train_dataloader)\n",
    "        print(f'Epoch [{epoch + 1}/{n_epochs}], '\n",
    "            f'Train Loss: {train_loss:.4f}')"
   ]
  },
  {
   "cell_type": "markdown",
   "metadata": {},
   "source": [
    "# Evaluating Models"
   ]
  },
  {
   "cell_type": "code",
   "execution_count": 39,
   "metadata": {},
   "outputs": [],
   "source": [
    "def evaluate(model, test_dataloader, criterion):\n",
    "    model.eval() # change model mode to evaluation\n",
    "    total_loss = 0\n",
    "    with torch.no_grad():\n",
    "        for X_batch, y_batch in test_dataloader:\n",
    "            predictions = model(X_batch)\n",
    "            loss = criterion(predictions.squeeze(), y_batch)\n",
    "            total_loss += loss.item()\n",
    "    average_loss = total_loss / len(test_dataloader)\n",
    "    print(f'Test Loss: {average_loss:.4f}')"
   ]
  },
  {
   "cell_type": "markdown",
   "metadata": {},
   "source": [
    "## Processing"
   ]
  },
  {
   "cell_type": "code",
   "execution_count": 53,
   "metadata": {},
   "outputs": [
    {
     "name": "stdout",
     "output_type": "stream",
     "text": [
      "Epoch [1/50], Train Loss: 1.2219\n",
      "Epoch [2/50], Train Loss: 1.0965\n",
      "Epoch [3/50], Train Loss: 1.0358\n",
      "Epoch [4/50], Train Loss: 1.0255\n",
      "Epoch [5/50], Train Loss: 1.0176\n",
      "Epoch [6/50], Train Loss: 1.0136\n",
      "Epoch [7/50], Train Loss: 1.0106\n",
      "Epoch [8/50], Train Loss: 1.0085\n",
      "Epoch [9/50], Train Loss: 1.0069\n",
      "Epoch [10/50], Train Loss: 1.0055\n",
      "Epoch [11/50], Train Loss: 1.0044\n",
      "Epoch [12/50], Train Loss: 1.0035\n",
      "Epoch [13/50], Train Loss: 1.0027\n",
      "Epoch [14/50], Train Loss: 1.0020\n",
      "Epoch [15/50], Train Loss: 1.0014\n",
      "Epoch [16/50], Train Loss: 1.0009\n",
      "Epoch [17/50], Train Loss: 1.0004\n",
      "Epoch [18/50], Train Loss: 1.0000\n",
      "Epoch [19/50], Train Loss: 0.9996\n",
      "Epoch [20/50], Train Loss: 0.9993\n",
      "Epoch [21/50], Train Loss: 0.9989\n",
      "Epoch [22/50], Train Loss: 0.9987\n",
      "Epoch [23/50], Train Loss: 0.9984\n",
      "Epoch [24/50], Train Loss: 0.9982\n",
      "Epoch [25/50], Train Loss: 0.9979\n",
      "Epoch [26/50], Train Loss: 0.9977\n",
      "Epoch [27/50], Train Loss: 0.9975\n",
      "Epoch [28/50], Train Loss: 0.9974\n",
      "Epoch [29/50], Train Loss: 0.9972\n",
      "Epoch [30/50], Train Loss: 0.9970\n",
      "Epoch [31/50], Train Loss: 0.9969\n",
      "Epoch [32/50], Train Loss: 0.9968\n",
      "Epoch [33/50], Train Loss: 0.9966\n",
      "Epoch [34/50], Train Loss: 0.9965\n",
      "Epoch [35/50], Train Loss: 0.9964\n",
      "Epoch [36/50], Train Loss: 0.9963\n",
      "Epoch [37/50], Train Loss: 0.9961\n",
      "Epoch [38/50], Train Loss: 0.9960\n",
      "Epoch [39/50], Train Loss: 0.9959\n",
      "Epoch [40/50], Train Loss: 0.9958\n",
      "Epoch [41/50], Train Loss: 0.9957\n",
      "Epoch [42/50], Train Loss: 0.9957\n",
      "Epoch [43/50], Train Loss: 0.9956\n",
      "Epoch [44/50], Train Loss: 0.9955\n",
      "Epoch [45/50], Train Loss: 0.9954\n",
      "Epoch [46/50], Train Loss: 0.9953\n",
      "Epoch [47/50], Train Loss: 0.9953\n",
      "Epoch [48/50], Train Loss: 0.9952\n",
      "Epoch [49/50], Train Loss: 0.9951\n",
      "Epoch [50/50], Train Loss: 0.9951\n"
     ]
    }
   ],
   "source": [
    "# let's start training the linear regression model\n",
    "lr = LinearRegression(input_dim=train_dim)\n",
    "criterion = nn.MSELoss() # most of the projects used mse as the loss functions, so we'll go with that\n",
    "lr_optimizer = torch.optim.SGD(lr.parameters(), lr=1e-3) # fixed learning rate for now\n",
    "train(model=lr, train_dataloader=train_dataloader, optimizer=lr_optimizer, criterion=criterion, n_epochs=50)"
   ]
  },
  {
   "cell_type": "code",
   "execution_count": 41,
   "metadata": {},
   "outputs": [
    {
     "name": "stdout",
     "output_type": "stream",
     "text": [
      "Test Loss: 1.0095\n"
     ]
    }
   ],
   "source": [
    "evaluate(lr, test_dataloader=test_dataloader, criterion=criterion)"
   ]
  },
  {
   "cell_type": "code",
   "execution_count": 43,
   "metadata": {},
   "outputs": [
    {
     "name": "stdout",
     "output_type": "stream",
     "text": [
      "Epoch [1/100], Train Loss: 1.0096\n",
      "Epoch [2/100], Train Loss: 1.0035\n",
      "Epoch [3/100], Train Loss: 0.9989\n",
      "Epoch [4/100], Train Loss: 0.9953\n",
      "Epoch [5/100], Train Loss: 0.9923\n",
      "Epoch [6/100], Train Loss: 0.9898\n",
      "Epoch [7/100], Train Loss: 0.9876\n",
      "Epoch [8/100], Train Loss: 0.9856\n",
      "Epoch [9/100], Train Loss: 0.9837\n",
      "Epoch [10/100], Train Loss: 0.9820\n",
      "Epoch [11/100], Train Loss: 0.9804\n",
      "Epoch [12/100], Train Loss: 0.9789\n",
      "Epoch [13/100], Train Loss: 0.9775\n",
      "Epoch [14/100], Train Loss: 0.9762\n",
      "Epoch [15/100], Train Loss: 0.9749\n",
      "Epoch [16/100], Train Loss: 0.9736\n",
      "Epoch [17/100], Train Loss: 0.9725\n",
      "Epoch [18/100], Train Loss: 0.9713\n",
      "Epoch [19/100], Train Loss: 0.9702\n",
      "Epoch [20/100], Train Loss: 0.9691\n",
      "Epoch [21/100], Train Loss: 0.9681\n",
      "Epoch [22/100], Train Loss: 0.9671\n",
      "Epoch [23/100], Train Loss: 0.9661\n",
      "Epoch [24/100], Train Loss: 0.9652\n",
      "Epoch [25/100], Train Loss: 0.9642\n",
      "Epoch [26/100], Train Loss: 0.9633\n",
      "Epoch [27/100], Train Loss: 0.9625\n",
      "Epoch [28/100], Train Loss: 0.9616\n",
      "Epoch [29/100], Train Loss: 0.9607\n",
      "Epoch [30/100], Train Loss: 0.9599\n",
      "Epoch [31/100], Train Loss: 0.9591\n",
      "Epoch [32/100], Train Loss: 0.9583\n",
      "Epoch [33/100], Train Loss: 0.9574\n",
      "Epoch [34/100], Train Loss: 0.9566\n",
      "Epoch [35/100], Train Loss: 0.9559\n",
      "Epoch [36/100], Train Loss: 0.9551\n",
      "Epoch [37/100], Train Loss: 0.9544\n",
      "Epoch [38/100], Train Loss: 0.9537\n",
      "Epoch [39/100], Train Loss: 0.9530\n",
      "Epoch [40/100], Train Loss: 0.9523\n",
      "Epoch [41/100], Train Loss: 0.9516\n",
      "Epoch [42/100], Train Loss: 0.9509\n",
      "Epoch [43/100], Train Loss: 0.9502\n",
      "Epoch [44/100], Train Loss: 0.9495\n",
      "Epoch [45/100], Train Loss: 0.9489\n",
      "Epoch [46/100], Train Loss: 0.9482\n",
      "Epoch [47/100], Train Loss: 0.9475\n",
      "Epoch [48/100], Train Loss: 0.9469\n",
      "Epoch [49/100], Train Loss: 0.9462\n",
      "Epoch [50/100], Train Loss: 0.9455\n",
      "Epoch [51/100], Train Loss: 0.9449\n",
      "Epoch [52/100], Train Loss: 0.9442\n",
      "Epoch [53/100], Train Loss: 0.9436\n",
      "Epoch [54/100], Train Loss: 0.9429\n",
      "Epoch [55/100], Train Loss: 0.9423\n",
      "Epoch [56/100], Train Loss: 0.9416\n",
      "Epoch [57/100], Train Loss: 0.9410\n",
      "Epoch [58/100], Train Loss: 0.9403\n",
      "Epoch [59/100], Train Loss: 0.9397\n",
      "Epoch [60/100], Train Loss: 0.9390\n",
      "Epoch [61/100], Train Loss: 0.9383\n",
      "Epoch [62/100], Train Loss: 0.9377\n",
      "Epoch [63/100], Train Loss: 0.9370\n",
      "Epoch [64/100], Train Loss: 0.9364\n",
      "Epoch [65/100], Train Loss: 0.9357\n",
      "Epoch [66/100], Train Loss: 0.9351\n",
      "Epoch [67/100], Train Loss: 0.9345\n",
      "Epoch [68/100], Train Loss: 0.9339\n",
      "Epoch [69/100], Train Loss: 0.9333\n",
      "Epoch [70/100], Train Loss: 0.9327\n",
      "Epoch [71/100], Train Loss: 0.9320\n",
      "Epoch [72/100], Train Loss: 0.9314\n",
      "Epoch [73/100], Train Loss: 0.9308\n",
      "Epoch [74/100], Train Loss: 0.9302\n",
      "Epoch [75/100], Train Loss: 0.9296\n",
      "Epoch [76/100], Train Loss: 0.9290\n",
      "Epoch [77/100], Train Loss: 0.9283\n",
      "Epoch [78/100], Train Loss: 0.9277\n",
      "Epoch [79/100], Train Loss: 0.9271\n",
      "Epoch [80/100], Train Loss: 0.9265\n",
      "Epoch [81/100], Train Loss: 0.9258\n",
      "Epoch [82/100], Train Loss: 0.9252\n",
      "Epoch [83/100], Train Loss: 0.9246\n",
      "Epoch [84/100], Train Loss: 0.9239\n",
      "Epoch [85/100], Train Loss: 0.9233\n",
      "Epoch [86/100], Train Loss: 0.9227\n",
      "Epoch [87/100], Train Loss: 0.9222\n",
      "Epoch [88/100], Train Loss: 0.9216\n",
      "Epoch [89/100], Train Loss: 0.9210\n",
      "Epoch [90/100], Train Loss: 0.9204\n",
      "Epoch [91/100], Train Loss: 0.9198\n",
      "Epoch [92/100], Train Loss: 0.9193\n",
      "Epoch [93/100], Train Loss: 0.9187\n",
      "Epoch [94/100], Train Loss: 0.9181\n",
      "Epoch [95/100], Train Loss: 0.9175\n",
      "Epoch [96/100], Train Loss: 0.9169\n",
      "Epoch [97/100], Train Loss: 0.9163\n",
      "Epoch [98/100], Train Loss: 0.9157\n",
      "Epoch [99/100], Train Loss: 0.9151\n",
      "Epoch [100/100], Train Loss: 0.9145\n"
     ]
    }
   ],
   "source": [
    "# mlp\n",
    "mlp = MLP(input_dim=train_dim)\n",
    "criterion = nn.MSELoss() # most of the projects used mse as the loss functions, so we'll go with that\n",
    "mlp_optimizer = torch.optim.SGD(mlp.parameters(), lr=1e-3) # fixed learning rate for now\n",
    "train(model=mlp, train_dataloader=train_dataloader, optimizer=mlp_optimizer, criterion=criterion, n_epochs=100)"
   ]
  },
  {
   "cell_type": "code",
   "execution_count": 44,
   "metadata": {},
   "outputs": [
    {
     "name": "stdout",
     "output_type": "stream",
     "text": [
      "Test Loss: 0.9988\n"
     ]
    }
   ],
   "source": [
    "evaluate(mlp, test_dataloader=test_dataloader, criterion=criterion)"
   ]
  },
  {
   "cell_type": "markdown",
   "metadata": {},
   "source": [
    "# Saving Models"
   ]
  },
  {
   "cell_type": "code",
   "execution_count": 47,
   "metadata": {},
   "outputs": [
    {
     "name": "stdout",
     "output_type": "stream",
     "text": [
      "MLP's state_dict:\n",
      "fc1.weight \t torch.Size([64, 95])\n",
      "fc1.bias \t torch.Size([64])\n",
      "fc2.weight \t torch.Size([32, 64])\n",
      "fc2.bias \t torch.Size([32])\n",
      "fc3.weight \t torch.Size([1, 32])\n",
      "fc3.bias \t torch.Size([1])\n",
      "Optimizer's state_dict:\n",
      "state \t {0: {'momentum_buffer': None}, 1: {'momentum_buffer': None}, 2: {'momentum_buffer': None}, 3: {'momentum_buffer': None}, 4: {'momentum_buffer': None}, 5: {'momentum_buffer': None}}\n",
      "param_groups \t [{'lr': 0.001, 'momentum': 0, 'dampening': 0, 'weight_decay': 0, 'nesterov': False, 'maximize': False, 'foreach': None, 'differentiable': False, 'fused': None, 'params': [0, 1, 2, 3, 4, 5]}]\n"
     ]
    }
   ],
   "source": [
    "# learnable parameters of models and optimizers are kept in a state dict, which can be saved easily\n",
    "print(\"MLP's state_dict:\")\n",
    "for param_tensor in mlp.state_dict():\n",
    "    print(param_tensor, \"\\t\", mlp.state_dict()[param_tensor].size())\n",
    "\n",
    "# Print optimizer's state_dict\n",
    "print(\"Optimizer's state_dict:\")\n",
    "for var_name in mlp_optimizer.state_dict():\n",
    "    print(var_name, \"\\t\", mlp_optimizer.state_dict()[var_name])"
   ]
  },
  {
   "cell_type": "code",
   "execution_count": 48,
   "metadata": {},
   "outputs": [
    {
     "data": {
      "text/plain": [
       "MLP(\n",
       "  (fc1): Linear(in_features=95, out_features=64, bias=True)\n",
       "  (fc2): Linear(in_features=64, out_features=32, bias=True)\n",
       "  (fc3): Linear(in_features=32, out_features=1, bias=True)\n",
       ")"
      ]
     },
     "execution_count": 48,
     "metadata": {},
     "output_type": "execute_result"
    }
   ],
   "source": [
    "# now if save this parameters, we can load the model as long as we have the model instance\n",
    "# this is a preferred way of saving models since the conditions are a easier to replicate on different devices\n",
    "dict_path = './model_state.pt'\n",
    "torch.save(mlp.state_dict(), dict_path)\n",
    "loaded_dict_model = MLP(input_dim=train_dim)\n",
    "loaded_dict_model.load_state_dict(torch.load(dict_path))\n",
    "loaded_dict_model.eval()"
   ]
  },
  {
   "cell_type": "code",
   "execution_count": 49,
   "metadata": {},
   "outputs": [
    {
     "data": {
      "text/plain": [
       "MLP(\n",
       "  (fc1): Linear(in_features=95, out_features=64, bias=True)\n",
       "  (fc2): Linear(in_features=64, out_features=32, bias=True)\n",
       "  (fc3): Linear(in_features=32, out_features=1, bias=True)\n",
       ")"
      ]
     },
     "execution_count": 49,
     "metadata": {},
     "output_type": "execute_result"
    }
   ],
   "source": [
    "# you can can also save the model as a whole, which won't require the code for it\n",
    "# but this is usually not preferred since there're lots of other variables that can fail (e.g dependencies)\n",
    "model_path = './model.pt'\n",
    "torch.save(mlp, model_path)\n",
    "loaded_model = torch.load(model_path)\n",
    "loaded_model.eval()"
   ]
  },
  {
   "cell_type": "markdown",
   "metadata": {},
   "source": [
    "# Additional Resources"
   ]
  },
  {
   "cell_type": "markdown",
   "metadata": {},
   "source": [
    "* PyTorch Basics https://pytorch.org/tutorials/beginner/basics/intro.html\n",
    "* Custom Dataset\n",
    "https://towardsdatascience.com/building-efficient-custom-datasets-in-pytorch-2563b946fd9f\n",
    "* Forward Pass and Backprop https://towardsdatascience.com/neural-networks-forward-pass-and-backpropagation-be3b75a1cfcc\n",
    "* Optimization https://martin-thoma.com/optimization-basics/\n",
    "* I've skipped the SVM model as implementing it in PyTorch is rather impractical, but if you're curious on how it can be done you can check out https://bytepawn.com/svm-with-pytorch.html\n",
    "* Learning Rate Scheduler https://machinelearningmastery.com/using-learning-rate-schedule-in-pytorch-training/\n",
    "* More Save/Load Functionality https://pytorch.org/tutorials/beginner/saving_loading_models.html\n",
    "* More PyTorch Tutorials https://github.com/yunjey/pytorch-tutorial?tab=readme-ov-file"
   ]
  }
 ],
 "metadata": {
  "kernelspec": {
   "display_name": "Python 3",
   "language": "python",
   "name": "python3"
  },
  "language_info": {
   "codemirror_mode": {
    "name": "ipython",
    "version": 3
   },
   "file_extension": ".py",
   "mimetype": "text/x-python",
   "name": "python",
   "nbconvert_exporter": "python",
   "pygments_lexer": "ipython3",
   "version": "3.9.6"
  }
 },
 "nbformat": 4,
 "nbformat_minor": 2
}
